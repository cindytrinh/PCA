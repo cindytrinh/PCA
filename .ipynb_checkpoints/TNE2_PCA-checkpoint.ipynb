{
 "cells": [
  {
   "cell_type": "markdown",
   "metadata": {},
   "source": [
    "# TNE 2: Principal Component Analysis"
   ]
  },
  {
   "cell_type": "markdown",
   "metadata": {},
   "source": [
    "The purpose of this tutorial is to use Principal Component Analysis (PCA) \n",
    "for dimension reduction applied to images.\n"
   ]
  },
  {
   "cell_type": "code",
   "execution_count": 1,
   "metadata": {},
   "outputs": [
    {
     "name": "stdout",
     "output_type": "stream",
     "text": [
      "Populating the interactive namespace from numpy and matplotlib\n"
     ]
    },
    {
     "name": "stderr",
     "output_type": "stream",
     "text": [
      "/home/cindy/anaconda3/lib/python3.6/site-packages/IPython/core/magics/pylab.py:160: UserWarning: pylab import has clobbered these variables: ['fft', 'random', 'power', 'linalg', 'info']\n",
      "`%matplotlib` prevents importing * from pylab and numpy\n",
      "  \"\\n`%matplotlib` prevents importing * from pylab and numpy\"\n"
     ]
    }
   ],
   "source": [
    "from pylab import *\n",
    "import numpy as np\n",
    "import matplotlib.pyplot as plt\n",
    "\n",
    "from numpy import linalg as la\n",
    "%pylab inline\n",
    "pylab.rcParams['figure.figsize'] = (15, 10)"
   ]
  },
  {
   "cell_type": "markdown",
   "metadata": {},
   "source": [
    "## 1. Application: handwritten digits recognition 5 & 6\n",
    "We load 2 matrices which contain each a sequence of examples of 16x16 images of handwritten digits which are 5 and 6 here. Each line of the matrix contains 256 pixel values coding for the gray level of a 16x16 image."
   ]
  },
  {
   "cell_type": "code",
   "execution_count": 2,
   "metadata": {},
   "outputs": [],
   "source": [
    "train_5 = np.loadtxt('train_5.txt',delimiter=',')   # 556 samples\n",
    "train_6 = np.loadtxt('train_6.txt',delimiter=',')   # 664 samples"
   ]
  },
  {
   "cell_type": "markdown",
   "metadata": {},
   "source": [
    "#### Examples of images:"
   ]
  },
  {
   "cell_type": "code",
   "execution_count": 3,
   "metadata": {},
   "outputs": [
    {
     "data": {
      "image/png": "[encoded data removed]",
      "text/plain": [
       "<Figure size 432x288 with 10 Axes>"
      ]
     },
     "metadata": {},
     "output_type": "display_data"
    }
   ],
   "source": [
    "for n in range (5):\n",
    "    I = np.reshape(train_5[n,:],(16,16))\n",
    "    plt.subplot(1,10,n+1)\n",
    "    plt.imshow(I,cmap='gray')\n",
    "\n",
    "    \n",
    "for n in range (5):\n",
    "    I = np.reshape(train_6[n,:],(16,16))\n",
    "    plt.subplot(1,10,n+6)\n",
    "    plt.imshow(I,cmap='gray')\n"
   ]
  },
  {
   "cell_type": "markdown",
   "metadata": {},
   "source": [
    "#### Separating the training and test sets\n",
    "\n",
    "We keep in the training set the 145 first images of 5s and the 200 first\n",
    "images of 6s:"
   ]
  },
  {
   "cell_type": "code",
   "execution_count": 4,
   "metadata": {},
   "outputs": [],
   "source": [
    "x_train_brut = np.vstack((train_5[:145,:], train_6[:200,:]))\n",
    "N_train = np.size(x_train_brut,axis=0)\n",
    "class_train = np.ones((345,1))   # label 1 for digit 6\n",
    "class_train[:145] = 0       # label 0 for digit 5\n",
    "\n",
    "x_test_brut = np.vstack((train_5[145:,:], train_6[200:,:]))\n",
    "N_test = np.size(train_5,axis=0)+np.size(train_6,axis=0)-N_train"
   ]
  },
  {
   "cell_type": "markdown",
   "metadata": {},
   "source": [
    "## 2. Principal Component Analysis\n",
    "\n",
    "The purpose of this part is to observe the respective contributions of\n",
    "each component of a PCA of images of 5. The function `sklearn.decomposition.PCA` of `scikit-learn` is available. In practice, one must first estimate the mean vector and then work with centered data. "
   ]
  },
  {
   "cell_type": "markdown",
   "metadata": {},
   "source": [
    "### Documentation\n",
    "First have a look at\n",
    "http://scikit-learn.org/stable/modules/generated/sklearn.decomposition.PCA.html\n",
    "    "
   ]
  },
  {
   "cell_type": "code",
   "execution_count": 5,
   "metadata": {},
   "outputs": [
    {
     "name": "stdout",
     "output_type": "stream",
     "text": [
      "(345, 256)\n",
      "(256, 256)\n"
     ]
    }
   ],
   "source": [
    "# Principal component analysis\n",
    "moy_train = x_train_brut.mean(axis=0)  # all the data, 5 & 6\n",
    "x_train_centre = x_train_brut-np.tile(moy_train,(N_train,1))\n",
    "print(x_train_centre.shape)\n",
    "# PCA from scikit-learn\n",
    "from sklearn.decomposition import PCA\n",
    "pca = PCA()\n",
    "pca.fit(x_train_centre)  # you may forget centering that is done by sklearn PCA\n",
    "\n",
    "singval = pca.singular_values_   # eigenvalues\n",
    "comp = pca.components_           # principal components\n",
    "proj = pca.transform(x_train_centre)  # computes the projection coefficients\n",
    "print(comp.shape)"
   ]
  },
  {
   "cell_type": "markdown",
   "metadata": {},
   "source": [
    "### Display the averaged images of 5 & 6 respectively"
   ]
  },
  {
   "cell_type": "code",
   "execution_count": 6,
   "metadata": {},
   "outputs": [
    {
     "data": {
      "image/png": "[encoded data removed]",
      "text/plain": [
       "<Figure size 216x360 with 1 Axes>"
      ]
     },
     "metadata": {},
     "output_type": "display_data"
    }
   ],
   "source": [
    "I_moy = np.reshape(moy_train,(16,16))   # averaged image = mean \n",
    "plt.figure(figsize=(3,5))\n",
    "plt.imshow(I_moy,cmap = 'gray')\n",
    "plt.show()"
   ]
  },
  {
   "cell_type": "markdown",
   "metadata": {},
   "source": [
    "### Display an example rebuilt from the 1st component only"
   ]
  },
  {
   "cell_type": "code",
   "execution_count": 7,
   "metadata": {},
   "outputs": [
    {
     "data": {
      "image/png": "[encoded data removed]",
      "text/plain": [
       "<Figure size 216x360 with 1 Axes>"
      ]
     },
     "metadata": {},
     "output_type": "display_data"
    }
   ],
   "source": [
    "n=12   # choice of image no n=12 or any other\n",
    "plt.figure(figsize=(3,5))\n",
    "I = I_moy + proj[n,0]*np.reshape(comp[0,:],(16,16))# adding the 1st PCA component \n",
    "plt.imshow(I,cmap='gray')\n",
    "plt.show()"
   ]
  },
  {
   "cell_type": "markdown",
   "metadata": {},
   "source": [
    "### Exercise 1: PCA & approximation\n",
    "\n",
    "1. Read the documentation of function `PCA` and identify the input and output parameters.\n",
    "2. Implement a progressive reconstruction of an image of digit 5 by adding the successive \n",
    "contribution of principal components.\n",
    "3. Observe graphical results. How many components are necessary to obtain a \n",
    "reconstruction that you may consider as acceptable? nice? very nice?\n",
    "4. Optional question: do the same for 6.\n"
   ]
  },
  {
   "cell_type": "markdown",
   "metadata": {},
   "source": [
    "###### Function tools"
   ]
  },
  {
   "cell_type": "code",
   "execution_count": 8,
   "metadata": {},
   "outputs": [],
   "source": [
    "def projected_images (x_train_brut, N_comp):\n",
    "    \"\"\" \n",
    "    Returns a projected image on the first N_comp with PCA\n",
    "    - x_train_brut : raw training data\n",
    "    - N_comp : number of components of PCA we want to project our image\n",
    "    \n",
    "    \n",
    "    Returns:\n",
    "    - array of size (N_train,16,16) images reconstructed with the first N_comp of pca\n",
    "    \"\"\"\n",
    "    pca = PCA(n_components=N_comp,\n",
    "              copy=True, whiten=False, svd_solver='auto',\n",
    "              tol=0.0, iterated_power='auto',\n",
    "              random_state=None)\n",
    "    \n",
    "    N_train = x_train_brut.shape[0]\n",
    "    moy_train = x_train_brut.mean(axis=0)\n",
    "    x_train_centre = x_train_brut-moy_train\n",
    "    \n",
    "    pca.fit(x_train_centre)\n",
    "    \n",
    "    first_N_comp = pca.components_     # principal components\n",
    "    first_N_coeff = pca.transform(x_train_centre)  # computes the projection coefficients\n",
    "    \n",
    "    images = (first_N_coeff.dot(first_N_comp)+moy_train).reshape((N_train,16,16))\n",
    "    \n",
    "    return images"
   ]
  },
  {
   "cell_type": "markdown",
   "metadata": {},
   "source": [
    "###### Reconstructed images"
   ]
  },
  {
   "cell_type": "code",
   "execution_count": 9,
   "metadata": {},
   "outputs": [
    {
     "data": {
      "text/plain": [
       "Text(0.5,1,'original')"
      ]
     },
     "execution_count": 9,
     "metadata": {},
     "output_type": "execute_result"
    },
    {
     "data": {
      "image/png": "[encoded data removed]",
      "text/plain": [
       "<Figure size 432x288 with 11 Axes>"
      ]
     },
     "metadata": {},
     "output_type": "display_data"
    }
   ],
   "source": [
    "# Digits 5\n",
    "index_ex=1\n",
    "nb_display = 10\n",
    "interval_comp = np.floor(x_train_brut.shape[1]/nb_display)\n",
    "\n",
    "for n in range(nb_display):\n",
    "    plt.subplot(1,nb_display+1,n+2)\n",
    "    N_comp = (n*interval_comp+1)\n",
    "    plt.imshow(projected_images(x_train_brut,int(N_comp))[index_ex,:,:],cmap='gray')\n",
    "    plt.title(int(N_comp))\n",
    "\n",
    "plt.subplot(1,nb_display+1,1)    \n",
    "plt.imshow(x_train_brut[index_ex].reshape((16,16)),cmap=\"gray\")\n",
    "plt.title(\"original\")\n",
    "  "
   ]
  },
  {
   "cell_type": "code",
   "execution_count": 10,
   "metadata": {},
   "outputs": [
    {
     "data": {
      "text/plain": [
       "Text(0.5,1,'original')"
      ]
     },
     "execution_count": 10,
     "metadata": {},
     "output_type": "execute_result"
    },
    {
     "data": {
      "image/png": "[encoded data removed]",
      "text/plain": [
       "<Figure size 432x288 with 11 Axes>"
      ]
     },
     "metadata": {},
     "output_type": "display_data"
    }
   ],
   "source": [
    "# Digits 6\n",
    "index_ex=210\n",
    "nb_display = 10\n",
    "interval_comp = np.floor(x_train_brut.shape[1]/nb_display)\n",
    "\n",
    "for n in range(nb_display):\n",
    "    plt.subplot(1,nb_display+1,n+2)\n",
    "    N_comp = (n*interval_comp+1)\n",
    "    plt.imshow(projected_images(x_train_brut,int(N_comp))[index_ex,:,:],cmap='gray')\n",
    "    plt.title(int(N_comp))\n",
    "\n",
    "plt.subplot(1,nb_display+1,1)    \n",
    "plt.imshow(x_train_brut[index_ex].reshape((16,16)),cmap=\"gray\")\n",
    "plt.title(\"original\")\n",
    "  "
   ]
  },
  {
   "cell_type": "markdown",
   "metadata": {},
   "source": [
    "We can consider the picture : \n",
    "- acceptable when there are approximately more than 50 components\n",
    "- nice : >100\n",
    "- very nice: >150\n",
    "<br> PCA reduces dimensionality very efficiently!"
   ]
  },
  {
   "cell_type": "markdown",
   "metadata": {},
   "source": [
    "### Exercise 2: PCA & classification\n",
    "1. Use `proj[0:2,:]` as the coordinates of a point representing each sample\n",
    "of the training set in a plane. Display the cloud of points associated to\n",
    "digits 5 and 6 by using 2 different colors.\n",
    "2. Comment on the repartition of points in the plane. \n",
    "3. Do you see how this PCA step makes possible the use of a much simpler classification? \n",
    "What would you propose as an alternative to logistic regression of TP3 then?\n"
   ]
  },
  {
   "cell_type": "code",
   "execution_count": 11,
   "metadata": {},
   "outputs": [
    {
     "name": "stdout",
     "output_type": "stream",
     "text": [
      "(345, 256)\n"
     ]
    },
    {
     "data": {
      "text/plain": [
       "<matplotlib.legend.Legend at 0x7f0b193b96d8>"
      ]
     },
     "execution_count": 11,
     "metadata": {},
     "output_type": "execute_result"
    },
    {
     "data": {
      "image/png": "[encoded data removed]",
      "text/plain": [
       "<Figure size 432x288 with 1 Axes>"
      ]
     },
     "metadata": {},
     "output_type": "display_data"
    }
   ],
   "source": [
    "# Exercise 2\n",
    "print(proj.shape)\n",
    "plt.plot(proj[:145,0],proj[:145,1],\"r*\",label=\"digit 5\")\n",
    "plt.plot(proj[145:,0],proj[145:,1],\"b*\",label = \"digit 6\")\n",
    "plt.xlabel(\"Coefficients of projection, First component PCA\")\n",
    "plt.ylabel(\"Coefficients of projection, Second component PCA\")\n",
    "plt.legend()"
   ]
  },
  {
   "cell_type": "markdown",
   "metadata": {},
   "source": [
    "## Beyond this lab\n",
    "\n",
    "Have a look at other examples of applications, like\n",
    "\n",
    "http://scikit-learn.org/stable/auto_examples/decomposition/plot_faces_decomposition.html#sphx-glr-auto-examples-decomposition-plot-faces-decomposition-py\n",
    "    "
   ]
  },
  {
   "cell_type": "code",
   "execution_count": null,
   "metadata": {},
   "outputs": [],
   "source": []
  }
 ],
 "metadata": {
  "kernelspec": {
   "display_name": "Python 3",
   "language": "python",
   "name": "python3"
  },
  "language_info": {
   "codemirror_mode": {
    "name": "ipython",
    "version": 3
   },
   "file_extension": ".py",
   "mimetype": "text/x-python",
   "name": "python",
   "nbconvert_exporter": "python",
   "pygments_lexer": "ipython3",
   "version": "3.6.5"
  }
 },
 "nbformat": 4,
 "nbformat_minor": 2
}
